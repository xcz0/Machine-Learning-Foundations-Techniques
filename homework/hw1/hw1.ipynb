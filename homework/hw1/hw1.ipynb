{
 "cells": [
  {
   "cell_type": "code",
   "execution_count": 1,
   "metadata": {},
   "outputs": [],
   "source": [
    "import numpy as np\n",
    "from random import randrange\n",
    "from PLA import *\n",
    "from scipy.special import comb"
   ]
  },
  {
   "cell_type": "code",
   "execution_count": 2,
   "metadata": {},
   "outputs": [
    {
     "data": {
      "text/plain": [
       "0.24609375"
      ]
     },
     "execution_count": 2,
     "metadata": {},
     "output_type": "execute_result"
    }
   ],
   "source": [
    "comb(10, 5)*(0.5**10)"
   ]
  },
  {
   "cell_type": "code",
   "execution_count": 3,
   "metadata": {},
   "outputs": [
    {
     "data": {
      "text/plain": [
       "0.38742048900000015"
      ]
     },
     "execution_count": 3,
     "metadata": {},
     "output_type": "execute_result"
    }
   ],
   "source": [
    "comb(10, 9)*(0.9**9)*0.1"
   ]
  },
  {
   "cell_type": "code",
   "execution_count": 4,
   "metadata": {},
   "outputs": [
    {
     "data": {
      "text/plain": [
       "9.100000000000004e-09"
      ]
     },
     "execution_count": 4,
     "metadata": {},
     "output_type": "execute_result"
    }
   ],
   "source": [
    "comb(10, 1)*(0.9**1)*(0.1**9)+comb(10, 0)*(0.1**10)"
   ]
  },
  {
   "cell_type": "code",
   "execution_count": 5,
   "metadata": {},
   "outputs": [
    {
     "data": {
      "text/plain": [
       "5.521545144074388e-06"
      ]
     },
     "execution_count": 5,
     "metadata": {},
     "output_type": "execute_result"
    }
   ],
   "source": [
    "2*np.exp(-2*0.8**2*10)"
   ]
  },
  {
   "cell_type": "code",
   "execution_count": 6,
   "metadata": {},
   "outputs": [],
   "source": [
    "features=5\n",
    "data = np.fromfile('hw1_15_train.dat', sep=\" \").reshape((-1 ,features))\n",
    "X,Y=data[:,0:features-1],data[:,features-1]"
   ]
  },
  {
   "cell_type": "code",
   "execution_count": 7,
   "metadata": {},
   "outputs": [],
   "source": [
    "data_train = np.fromfile('hw1_18_train.dat', sep=\" \").reshape((-1 ,features))\n",
    "X_train,Y_train=data_train[:,0:features-1],data_train[:,features-1]"
   ]
  },
  {
   "cell_type": "code",
   "execution_count": 8,
   "metadata": {},
   "outputs": [],
   "source": [
    "data_test = np.fromfile('hw1_18_test.dat', sep=\" \").reshape((-1 ,features))\n",
    "X_test,Y_test=data_test[:,0:features-1],data_test[:,features-1]"
   ]
  },
  {
   "cell_type": "code",
   "execution_count": 9,
   "metadata": {},
   "outputs": [
    {
     "data": {
      "text/plain": [
       "(array([ 3.6161856 , -2.013502  ,  3.123158  ,  5.49830856, -4.        ]), 60)"
      ]
     },
     "execution_count": 9,
     "metadata": {},
     "output_type": "execute_result"
    }
   ],
   "source": [
    "PLATrain(X,Y, rand=False, rate=1, times=1000,pocket=False)"
   ]
  },
  {
   "cell_type": "code",
   "execution_count": 10,
   "metadata": {},
   "outputs": [
    {
     "data": {
      "text/plain": [
       "40.6085"
      ]
     },
     "execution_count": 10,
     "metadata": {},
     "output_type": "execute_result"
    }
   ],
   "source": [
    "count=[]\n",
    "for i in range(2000):\n",
    "\tcount.append(PLATrain(X,Y, rand=True, rate=1, times=1000,pocket=False)[1])\n",
    "sum(count)/2000"
   ]
  },
  {
   "cell_type": "code",
   "execution_count": 11,
   "metadata": {},
   "outputs": [
    {
     "data": {
      "text/plain": [
       "40.1775"
      ]
     },
     "execution_count": 11,
     "metadata": {},
     "output_type": "execute_result"
    }
   ],
   "source": [
    "count=[]\n",
    "for i in range(2000):\n",
    "\tcount.append(PLATrain(X,Y, rand=True, rate=0.5, times=1000, pocket=False)[1])\n",
    "sum(count)/2000"
   ]
  },
  {
   "cell_type": "code",
   "execution_count": 12,
   "metadata": {},
   "outputs": [
    {
     "data": {
      "text/plain": [
       "0.35507899999999976"
      ]
     },
     "execution_count": 12,
     "metadata": {},
     "output_type": "execute_result"
    }
   ],
   "source": [
    "err = []\n",
    "for i in range(2000):\n",
    "    w = PLATrain(X_train, Y_train, rand=True, rate=1, times=50, pocket=False)[0]\n",
    "    error = sum(Y_test != PLAClassify(X_test, w))/Y_train.shape[0]\n",
    "    err.append(error)\n",
    "sum(err)/2000\n"
   ]
  },
  {
   "cell_type": "code",
   "execution_count": 13,
   "metadata": {},
   "outputs": [
    {
     "data": {
      "text/plain": [
       "(array([-0.36936 , -0.07562 , -0.620251, -0.07913 ,  0.      ]), 49)"
      ]
     },
     "execution_count": 13,
     "metadata": {},
     "output_type": "execute_result"
    }
   ],
   "source": [
    "PLATrain(X_train, Y_train, rand=True, rate=1, times=50, pocket=True)"
   ]
  },
  {
   "cell_type": "code",
   "execution_count": 14,
   "metadata": {},
   "outputs": [
    {
     "data": {
      "text/plain": [
       "0.28686799999999973"
      ]
     },
     "execution_count": 14,
     "metadata": {},
     "output_type": "execute_result"
    }
   ],
   "source": [
    "err = []\n",
    "s=Y_train.shape[0]\n",
    "for i in range(2000):\n",
    "    w = PLATrain(X_train, Y_train, rand=True, rate=1, times=50, pocket=True)[0]\n",
    "    error = sum(Y_test != PLAClassify(X_test, w))/s\n",
    "    err.append(error)\n",
    "sum(err)/2000"
   ]
  },
  {
   "cell_type": "code",
   "execution_count": 15,
   "metadata": {},
   "outputs": [
    {
     "data": {
      "text/plain": [
       "0.28937299999999966"
      ]
     },
     "execution_count": 15,
     "metadata": {},
     "output_type": "execute_result"
    }
   ],
   "source": [
    "err = []\n",
    "s=Y_train.shape[0]\n",
    "for i in range(2000):\n",
    "    w = PLATrain(X_train, Y_train, rand=True, rate=1, times=100, pocket=True)[0]\n",
    "    error = sum(Y_test != PLAClassify(X_test, w))/s\n",
    "    err.append(error)\n",
    "sum(err)/2000"
   ]
  }
 ],
 "metadata": {
  "interpreter": {
   "hash": "2b0eb5be5fd1d2c7e9c7316814b65964c2b7f7a3c7b91866f88d7e59dacbceb4"
  },
  "kernelspec": {
   "display_name": "Python 3.9.11 ('base')",
   "language": "python",
   "name": "python3"
  },
  "language_info": {
   "codemirror_mode": {
    "name": "ipython",
    "version": 3
   },
   "file_extension": ".py",
   "mimetype": "text/x-python",
   "name": "python",
   "nbconvert_exporter": "python",
   "pygments_lexer": "ipython3",
   "version": "3.9.7"
  },
  "orig_nbformat": 4
 },
 "nbformat": 4,
 "nbformat_minor": 2
}
